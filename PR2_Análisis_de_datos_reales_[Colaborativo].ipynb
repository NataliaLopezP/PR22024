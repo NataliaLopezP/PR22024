{
  "cells": [
    {
      "cell_type": "markdown",
      "metadata": {
        "id": "FsYKpJUGxcNE"
      },
      "source": [
        "# Importando datos"
      ]
    },
    {
      "cell_type": "code",
      "execution_count": null,
      "metadata": {},
      "outputs": [],
      "source": [
        "import pandas as pd\n",
        "import seaborn as sns\n",
        "import matplotlib.pyplot as plt\n",
        "import scipy.stats as stats\n",
        "import numpy as np"
      ]
    },
    {
      "cell_type": "code",
      "execution_count": null,
      "metadata": {
        "colab": {
          "base_uri": "https://localhost:8080/"
        },
        "id": "3oG63X5mwkMw",
        "outputId": "87e11d0a-5f75-4e3a-9e10-c0c1439121fe"
      },
      "outputs": [
        {
          "ename": "",
          "evalue": "",
          "output_type": "error",
          "traceback": [
            "\u001b[1;31mRunning cells with 'Python 3.8.9' requires the ipykernel package.\n",
            "\u001b[1;31mRun the following command to install 'ipykernel' into the Python environment. \n",
            "\u001b[1;31mCommand: '/usr/bin/python3 -m pip install ipykernel -U --user --force-reinstall'"
          ]
        }
      ],
      "source": [
        "# Descargar el dataset desde Kaggle usando el API correcto\n",
        "!kaggle datasets download -d ophi/mpi\n",
        "\n",
        "# Descomprimir el archivo descargado\n",
        "!unzip mpi.zip\n",
        "\n",
        "# Leer el archivo CSV en un DataFrame\n",
        "mpi_data = pd.read_csv('MPI_national.csv')  # Ajusta el nombre del archivo si es diferente\n",
        "\n",
        "# Mostrar las primeras filas del DataFrame\n",
        "print(mpi_data.head())"
      ]
    },
    {
      "cell_type": "code",
      "execution_count": null,
      "metadata": {
        "colab": {
          "base_uri": "https://localhost:8080/"
        },
        "id": "qVqT9b3UzrpH",
        "outputId": "907b4b81-c340-4d89-8581-26ce0807ce35"
      },
      "outputs": [
        {
          "ename": "",
          "evalue": "",
          "output_type": "error",
          "traceback": [
            "\u001b[1;31mRunning cells with 'Python 3.8.9' requires the ipykernel package.\n",
            "\u001b[1;31mRun the following command to install 'ipykernel' into the Python environment. \n",
            "\u001b[1;31mCommand: '/usr/bin/python3 -m pip install ipykernel -U --user --force-reinstall'"
          ]
        }
      ],
      "source": [
        "# Revisar información del dataset\n",
        "mpi_data.info()"
      ]
    },
    {
      "cell_type": "code",
      "execution_count": null,
      "metadata": {
        "colab": {
          "base_uri": "https://localhost:8080/"
        },
        "id": "Tnh4_ePxwn98",
        "outputId": "bea48ebc-4d36-46f1-ceda-d665d4f6c30d"
      },
      "outputs": [
        {
          "ename": "",
          "evalue": "",
          "output_type": "error",
          "traceback": [
            "\u001b[1;31mRunning cells with 'Python 3.8.9' requires the ipykernel package.\n",
            "\u001b[1;31mRun the following command to install 'ipykernel' into the Python environment. \n",
            "\u001b[1;31mCommand: '/usr/bin/python3 -m pip install ipykernel -U --user --force-reinstall'"
          ]
        }
      ],
      "source": [
        "# Calcular la diferencia entre MPI Urbano y Rural\n",
        "mpi_data['MPI Difference'] = mpi_data['MPI Urban'] - mpi_data['MPI Rural']\n",
        "\n",
        "# Clasificación de países según la disparidad de pobreza\n",
        "mpi_data['Poverty Disparity'] = mpi_data['MPI Difference'].apply(\n",
        "    lambda x: 'Urban Favorable' if x < 0 else 'Rural Favorable' if x > 0 else 'Equal'\n",
        ")\n",
        "\n",
        "# Mostrar las primeras filas del DataFrame con las nuevas columnas\n",
        "print(mpi_data.head())"
      ]
    },
    {
      "cell_type": "code",
      "execution_count": null,
      "metadata": {
        "colab": {
          "base_uri": "https://localhost:8080/"
        },
        "id": "gl5_brNoes0q",
        "outputId": "d72a7bb4-ae4c-4f50-c3b4-b6251e23f044"
      },
      "outputs": [
        {
          "ename": "",
          "evalue": "",
          "output_type": "error",
          "traceback": [
            "\u001b[1;31mRunning cells with 'Python 3.8.9' requires the ipykernel package.\n",
            "\u001b[1;31mRun the following command to install 'ipykernel' into the Python environment. \n",
            "\u001b[1;31mCommand: '/usr/bin/python3 -m pip install ipykernel -U --user --force-reinstall'"
          ]
        }
      ],
      "source": [
        "# Resumen descriptivo de las variables numéricas\n",
        "descriptive_stats = mpi_data.describe()\n",
        "print(\"Resumen Descriptivo:\")\n",
        "print(descriptive_stats)"
      ]
    },
    {
      "cell_type": "code",
      "execution_count": null,
      "metadata": {
        "colab": {
          "base_uri": "https://localhost:8080/",
          "height": 565
        },
        "id": "Vd5UuyNQf6op",
        "outputId": "79919fab-696d-4923-886d-3ed27f8e1361"
      },
      "outputs": [
        {
          "ename": "",
          "evalue": "",
          "output_type": "error",
          "traceback": [
            "\u001b[1;31mRunning cells with 'Python 3.8.9' requires the ipykernel package.\n",
            "\u001b[1;31mRun the following command to install 'ipykernel' into the Python environment. \n",
            "\u001b[1;31mCommand: '/usr/bin/python3 -m pip install ipykernel -U --user --force-reinstall'"
          ]
        }
      ],
      "source": [
        "\n",
        "\n",
        "# Contar los países por categoría en Poverty Disparity\n",
        "poverty_disparity_count = mpi_data['Poverty Disparity'].value_counts()\n",
        "\n",
        "# Crear un gráfico de barras con el conteo\n",
        "plt.figure(figsize=(8, 6))\n",
        "ax = sns.barplot(x=poverty_disparity_count.index, y=poverty_disparity_count.values)\n",
        "plt.title('Conteo de Países por Disparidad de Pobreza')\n",
        "plt.xlabel('Poverty Disparity')\n",
        "plt.ylabel('Cantidad de Países')\n",
        "\n",
        "# Añadir los valores de conteo encima de cada barra\n",
        "for index, value in enumerate(poverty_disparity_count.values):\n",
        "    ax.text(index, value + 0.5, str(value), ha='center')\n",
        "\n",
        "plt.show()"
      ]
    },
    {
      "cell_type": "code",
      "execution_count": null,
      "metadata": {
        "colab": {
          "base_uri": "https://localhost:8080/"
        },
        "id": "TyHaxkUrgl4d",
        "outputId": "692ae1f3-b393-4f82-954c-c039d8d28b41"
      },
      "outputs": [
        {
          "ename": "",
          "evalue": "",
          "output_type": "error",
          "traceback": [
            "\u001b[1;31mRunning cells with 'Python 3.8.9' requires the ipykernel package.\n",
            "\u001b[1;31mRun the following command to install 'ipykernel' into the Python environment. \n",
            "\u001b[1;31mCommand: '/usr/bin/python3 -m pip install ipykernel -U --user --force-reinstall'"
          ]
        }
      ],
      "source": [
        "# Obtener los nombres de los países para cada categoría de 'Poverty Disparity'\n",
        "for category in mpi_data['Poverty Disparity'].unique():\n",
        "    countries_in_category = mpi_data[mpi_data['Poverty Disparity'] == category]['Country'].tolist()\n",
        "    print(f\"\\nPaíses en la categoría '{category}':\")\n",
        "    print(countries_in_category)"
      ]
    },
    {
      "cell_type": "code",
      "execution_count": null,
      "metadata": {
        "colab": {
          "base_uri": "https://localhost:8080/",
          "height": 545
        },
        "id": "1GXIfMqbfTVo",
        "outputId": "eeccc145-f9c6-40b3-efe9-3738fba29a09"
      },
      "outputs": [
        {
          "ename": "",
          "evalue": "",
          "output_type": "error",
          "traceback": [
            "\u001b[1;31mRunning cells with 'Python 3.8.9' requires the ipykernel package.\n",
            "\u001b[1;31mRun the following command to install 'ipykernel' into the Python environment. \n",
            "\u001b[1;31mCommand: '/usr/bin/python3 -m pip install ipykernel -U --user --force-reinstall'"
          ]
        }
      ],
      "source": [
        "# Boxplots para detectar outliers\n",
        "plt.figure(figsize=(12, 6))\n",
        "sns.boxplot(data=mpi_data[['Headcount Ratio Urban', 'Headcount Ratio Rural']])\n",
        "plt.title('Boxplot de Ratio Urbano y Rural')\n",
        "plt.show()"
      ]
    },
    {
      "cell_type": "code",
      "execution_count": null,
      "metadata": {
        "colab": {
          "base_uri": "https://localhost:8080/",
          "height": 452
        },
        "id": "LvfJi_ZIg1Qz",
        "outputId": "ede6bd33-50bb-442b-b0b5-4f1b48353fd4"
      },
      "outputs": [
        {
          "ename": "",
          "evalue": "",
          "output_type": "error",
          "traceback": [
            "\u001b[1;31mRunning cells with 'Python 3.8.9' requires the ipykernel package.\n",
            "\u001b[1;31mRun the following command to install 'ipykernel' into the Python environment. \n",
            "\u001b[1;31mCommand: '/usr/bin/python3 -m pip install ipykernel -U --user --force-reinstall'"
          ]
        }
      ],
      "source": [
        "sns.boxplot(data=mpi_data[['MPI Urban', 'MPI Rural']])\n",
        "plt.title('Boxplot de MPI Urbano y Rural')\n",
        "plt.show()"
      ]
    },
    {
      "cell_type": "code",
      "execution_count": null,
      "metadata": {
        "id": "cq4IXDdcm5Gl"
      },
      "outputs": [
        {
          "ename": "",
          "evalue": "",
          "output_type": "error",
          "traceback": [
            "\u001b[1;31mRunning cells with 'Python 3.8.9' requires the ipykernel package.\n",
            "\u001b[1;31mRun the following command to install 'ipykernel' into the Python environment. \n",
            "\u001b[1;31mCommand: '/usr/bin/python3 -m pip install ipykernel -U --user --force-reinstall'"
          ]
        }
      ],
      "source": [
        "# Diccionario de países agrupados por continentes\n",
        "continent_dict = {\n",
        "    \"África\": [\n",
        "        \"Tunisia\", \"Algeria\", \"Morocco\", \"Egypt\", \"South Africa\", \"Swaziland\",\n",
        "        \"Zimbabwe\", \"Lesotho\", \"Gabon\", \"Sao Tome and Principe\", \"Ghana\", \"Kenya\",\n",
        "        \"Togo\", \"Comoros\", \"Namibia\", \"Cameroon\", \"Malawi\", \"Rwanda\", \"Madagascar\",\n",
        "        \"Mauritania\", \"Zambia\", \"Nigeria\", \"Uganda\", \"Sudan\", \"Senegal\",\n",
        "        \"Cote d'Ivoire\", \"Guinea\", \"Gambia\", \"Mali\", \"Mozambique\", \"Benin\",\n",
        "        \"Guinea-Bissau\", \"Burundi\", \"Burkina Faso\", \"Congo, Democratic Republic of the\",\n",
        "        \"Ethiopia\", \"Sierra Leone\", \"Niger\", \"Central African Republic\", \"Liberia\",\n",
        "        \"Somalia\", \"Chad\", \"South Sudan\", \"Djibouti\"\n",
        "    ],\n",
        "    \"Asia\": [\n",
        "        \"Kazakhstan\", \"Kyrgyzstan\", \"Turkmenistan\", \"Uzbekistan\", \"Tajikistan\",\n",
        "        \"Armenia\", \"Mongolia\", \"Thailand\", \"China\", \"Viet Nam\", \"Cambodia\",\n",
        "        \"Myanmar\", \"Philippines\", \"Indonesia\", \"Lao People's Democratic Republic\",\n",
        "        \"India\", \"Pakistan\", \"Bangladesh\", \"Nepal\", \"Maldives\", \"Sri Lanka\",\n",
        "        \"Bhutan\", \"Afghanistan\", \"Yemen\", \"Jordan\", \"Iraq\", \"Syrian Arab Republic\"\n",
        "    ],\n",
        "    \"Europa\": [\n",
        "        \"Serbia\", \"Macedonia, The former Yugoslav Republic of\", \"Moldova, Republic of\",\n",
        "        \"Montenegro\", \"Bosnia and Herzegovina\", \"Albania\", \"Ukraine\"\n",
        "    ],\n",
        "    \"América del Norte\": [\n",
        "        \"Mexico\", \"Belize\"\n",
        "    ],\n",
        "    \"América del Sur\": [\n",
        "        \"Guyana\", \"Ecuador\", \"Colombia\", \"El Salvador\", \"Peru\", \"Nicaragua\",\n",
        "        \"Brazil\", \"Bolivia, Plurinational State of\", \"Honduras\", \"Dominican Republic\",\n",
        "        \"Guatemala\", \"Trinidad and Tobago\", \"Barbados\", \"Jamaica\", \"Haiti\",\n",
        "        \"Saint Lucia\"\n",
        "    ],\n",
        "    \"Oceanía\": [\n",
        "        \"Vanuatu\"\n",
        "    ]\n",
        "}"
      ]
    },
    {
      "cell_type": "code",
      "execution_count": null,
      "metadata": {
        "colab": {
          "base_uri": "https://localhost:8080/",
          "height": 1000
        },
        "id": "DgnfBqj5ozra",
        "outputId": "a4dda789-950a-40de-cf5c-dd9fef63337f"
      },
      "outputs": [
        {
          "ename": "",
          "evalue": "",
          "output_type": "error",
          "traceback": [
            "\u001b[1;31mRunning cells with 'Python 3.8.9' requires the ipykernel package.\n",
            "\u001b[1;31mRun the following command to install 'ipykernel' into the Python environment. \n",
            "\u001b[1;31mCommand: '/usr/bin/python3 -m pip install ipykernel -U --user --force-reinstall'"
          ]
        }
      ],
      "source": [
        "# Crear una columna 'Continent' basada en el diccionario de continentes\n",
        "def assign_continent(country):\n",
        "    for continent, countries in continent_dict.items():\n",
        "        if country in countries:\n",
        "            return continent\n",
        "    return None\n",
        "\n",
        "# Asignar los continentes a los países\n",
        "mpi_data['Continent'] = mpi_data['Country'].apply(assign_continent)\n",
        "\n",
        "# Gráfico de barras para visualizar los promedios del MPI Urban por región\n",
        "plt.figure(figsize=(12, 6))\n",
        "sns.barplot(x='Continent', y='MPI Urban', data=mpi_data, estimator=np.mean, ci=None)\n",
        "plt.title('Promedio del MPI Urbano por Región')\n",
        "plt.ylabel('Promedio MPI Urbano')\n",
        "plt.xlabel('Región (Continente)')\n",
        "plt.xticks(rotation=45)\n",
        "plt.show()\n",
        "\n",
        "# Gráfico de barras para visualizar los promedios del MPI Rural por región\n",
        "plt.figure(figsize=(12, 6))\n",
        "sns.barplot(x='Continent', y='MPI Rural', data=mpi_data, estimator=np.mean, ci=None)\n",
        "plt.title('Promedio del MPI Rural por Región')\n",
        "plt.ylabel('Promedio MPI Rural')\n",
        "plt.xlabel('Región (Continente)')\n",
        "plt.xticks(rotation=45)\n",
        "plt.show()"
      ]
    },
    {
      "cell_type": "code",
      "execution_count": null,
      "metadata": {
        "colab": {
          "base_uri": "https://localhost:8080/"
        },
        "id": "Wpwa5oyOjv-g",
        "outputId": "fc39e3bd-c0af-49fd-d2b8-e88039095bcd"
      },
      "outputs": [
        {
          "ename": "",
          "evalue": "",
          "output_type": "error",
          "traceback": [
            "\u001b[1;31mRunning cells with 'Python 3.8.9' requires the ipykernel package.\n",
            "\u001b[1;31mRun the following command to install 'ipykernel' into the Python environment. \n",
            "\u001b[1;31mCommand: '/usr/bin/python3 -m pip install ipykernel -U --user --force-reinstall'"
          ]
        }
      ],
      "source": [
        "\n",
        "# Filtrar los datos que no tienen un continente asignado (si es necesario)\n",
        "mpi_data_filtered = mpi_data.dropna(subset=['Continent'])\n",
        "\n",
        "# Seleccionar las columnas necesarias para el ANOVA\n",
        "df_anova = mpi_data_filtered[['Continent', 'MPI Urban']]\n",
        "\n",
        "# Agrupar los datos por 'Continent'\n",
        "grouped_anova = df_anova.groupby('Continent')\n",
        "\n",
        "# Obtener los grupos de datos por continente\n",
        "group_africa = grouped_anova.get_group('África')['MPI Urban']\n",
        "group_asia = grouped_anova.get_group('Asia')['MPI Urban']\n",
        "group_europe = grouped_anova.get_group('Europa')['MPI Urban']\n",
        "group_north_america = grouped_anova.get_group('América del Norte')['MPI Urban']\n",
        "group_south_america = grouped_anova.get_group('América del Sur')['MPI Urban']\n",
        "group_oceania = grouped_anova.get_group('Oceanía')['MPI Urban']\n",
        "\n",
        "# Realizar el test ANOVA de un solo factor\n",
        "F_stat, p_val = stats.f_oneway(\n",
        "    group_africa,\n",
        "    group_asia,\n",
        "    group_europe,\n",
        "    group_north_america,\n",
        "    group_south_america,\n",
        "    group_oceania\n",
        ")\n",
        "\n",
        "# Resultados del ANOVA\n",
        "print(\"Resultados ANOVA\")\n",
        "print(f\"F = {F_stat}\")\n",
        "print(f\"p = {p_val}\")"
      ]
    },
    {
      "cell_type": "markdown",
      "metadata": {
        "id": "LqQ8uk_LzZPE"
      },
      "source": [
        "# Exploración de Datos"
      ]
    },
    {
      "cell_type": "code",
      "execution_count": null,
      "metadata": {
        "colab": {
          "base_uri": "https://localhost:8080/",
          "height": 1000
        },
        "id": "8zEZu5f1zZlT",
        "outputId": "277ad7b7-6534-4bcd-f79f-627cdfe6c2f8"
      },
      "outputs": [
        {
          "ename": "",
          "evalue": "",
          "output_type": "error",
          "traceback": [
            "\u001b[1;31mRunning cells with 'Python 3.8.9' requires the ipykernel package.\n",
            "\u001b[1;31mRun the following command to install 'ipykernel' into the Python environment. \n",
            "\u001b[1;31mCommand: '/usr/bin/python3 -m pip install ipykernel -U --user --force-reinstall'"
          ]
        }
      ],
      "source": [
        "sns.pairplot(data = mpi_data)"
      ]
    },
    {
      "cell_type": "code",
      "execution_count": null,
      "metadata": {
        "colab": {
          "base_uri": "https://localhost:8080/",
          "height": 565
        },
        "id": "yBh61xDlw1_a",
        "outputId": "77219284-2bdb-49e2-f2e2-6c408c1d0a36"
      },
      "outputs": [
        {
          "ename": "",
          "evalue": "",
          "output_type": "error",
          "traceback": [
            "\u001b[1;31mRunning cells with 'Python 3.8.9' requires the ipykernel package.\n",
            "\u001b[1;31mRun the following command to install 'ipykernel' into the Python environment. \n",
            "\u001b[1;31mCommand: '/usr/bin/python3 -m pip install ipykernel -U --user --force-reinstall'"
          ]
        }
      ],
      "source": [
        "# Histogramas de las variables MPI Urban y MPI Rural\n",
        "plt.figure(figsize=(12, 6))\n",
        "sns.histplot(mpi_data['MPI Urban'], bins=20, kde=True, color='blue', label='MPI Urban')\n",
        "sns.histplot(mpi_data['MPI Rural'], bins=20, kde=True, color='orange', label='MPI Rural')\n",
        "plt.title('Distribución del MPI en áreas Urbanas y Rurales a nivel Nacional')\n",
        "plt.xlabel('MPI')\n",
        "plt.ylabel('Frecuencia')\n",
        "plt.legend()\n",
        "plt.show()"
      ]
    },
    {
      "cell_type": "code",
      "execution_count": null,
      "metadata": {
        "colab": {
          "base_uri": "https://localhost:8080/",
          "height": 719
        },
        "id": "kImKAebo0qCz",
        "outputId": "9f343c8e-b294-4fd3-a58c-a21c5b12c1a1"
      },
      "outputs": [
        {
          "ename": "",
          "evalue": "",
          "output_type": "error",
          "traceback": [
            "\u001b[1;31mRunning cells with 'Python 3.8.9' requires the ipykernel package.\n",
            "\u001b[1;31mRun the following command to install 'ipykernel' into the Python environment. \n",
            "\u001b[1;31mCommand: '/usr/bin/python3 -m pip install ipykernel -U --user --force-reinstall'"
          ]
        }
      ],
      "source": [
        "# Comparación MPI Urbano vs Rural por País\n",
        "plt.figure(figsize=(14, 8))\n",
        "sns.scatterplot(data=mpi_data, x='MPI Urban', y='MPI Rural', hue='Country', palette='tab20', legend=None)\n",
        "plt.title('Comparación entre MPI Urbano y Rural por País')\n",
        "plt.xlabel('MPI Urbano')\n",
        "plt.ylabel('MPI Rural')\n",
        "plt.show()"
      ]
    },
    {
      "cell_type": "markdown",
      "metadata": {
        "id": "bY-8QSUCw3fY"
      },
      "source": [
        "# Análisis de Correlación"
      ]
    },
    {
      "cell_type": "code",
      "execution_count": null,
      "metadata": {
        "colab": {
          "base_uri": "https://localhost:8080/",
          "height": 895
        },
        "id": "tlf1RBt4w5R3",
        "outputId": "e26a97b7-1932-4b4d-ae20-addfb3119996"
      },
      "outputs": [
        {
          "ename": "",
          "evalue": "",
          "output_type": "error",
          "traceback": [
            "\u001b[1;31mRunning cells with 'Python 3.8.9' requires the ipykernel package.\n",
            "\u001b[1;31mRun the following command to install 'ipykernel' into the Python environment. \n",
            "\u001b[1;31mCommand: '/usr/bin/python3 -m pip install ipykernel -U --user --force-reinstall'"
          ]
        }
      ],
      "source": [
        "# Filtrar solo las columnas numéricas para calcular la matriz de correlación\n",
        "numeric_columns = mpi_data.select_dtypes(include=['float64', 'int64'])\n",
        "\n",
        "# Matriz de correlación de variables\n",
        "plt.figure(figsize=(10, 8))\n",
        "sns.heatmap(numeric_columns.corr(), annot=True, cmap='coolwarm', fmt='.2f')\n",
        "plt.title('Matriz de Correlación de las Variables')\n",
        "plt.show()\n"
      ]
    },
    {
      "cell_type": "markdown",
      "metadata": {
        "id": "6jtAwcqaw7Sz"
      },
      "source": [
        "# Modelado: Regresión"
      ]
    },
    {
      "cell_type": "code",
      "execution_count": null,
      "metadata": {
        "colab": {
          "base_uri": "https://localhost:8080/",
          "height": 599
        },
        "id": "HGnIw64Jw9LZ",
        "outputId": "3de1972c-f817-427e-f89f-bb12a6c4f6c2"
      },
      "outputs": [
        {
          "ename": "",
          "evalue": "",
          "output_type": "error",
          "traceback": [
            "\u001b[1;31mRunning cells with 'Python 3.8.9' requires the ipykernel package.\n",
            "\u001b[1;31mRun the following command to install 'ipykernel' into the Python environment. \n",
            "\u001b[1;31mCommand: '/usr/bin/python3 -m pip install ipykernel -U --user --force-reinstall'"
          ]
        }
      ],
      "source": [
        "from sklearn.model_selection import train_test_split\n",
        "from sklearn.linear_model import LinearRegression\n",
        "from sklearn.metrics import mean_squared_error, r2_score\n",
        "\n",
        "# Definir variables independientes y dependientes\n",
        "X = mpi_data[['MPI Urban', 'Headcount Ratio Urban', 'Intensity of Deprivation Urban']]\n",
        "y = mpi_data['MPI Rural']\n",
        "\n",
        "# División de los datos\n",
        "X_train, X_test, y_train, y_test = train_test_split(X, y, test_size=0.3, random_state=42)\n",
        "\n",
        "# Entrenar modelo de regresión\n",
        "model = LinearRegression()\n",
        "model.fit(X_train, y_train)\n",
        "\n",
        "# Predicción y evaluación\n",
        "y_pred = model.predict(X_test)\n",
        "mse = mean_squared_error(y_test, y_pred)\n",
        "r2 = r2_score(y_test, y_pred)\n",
        "print(f\"Mean Squared Error (MSE): {mse}\")\n",
        "print(f\"R-squared (R2): {r2}\")\n",
        "\n",
        "\n",
        "# Visualización de los resultados\n",
        "plt.figure(figsize=(10, 6))\n",
        "plt.scatter(y_test, y_pred, color='blue')\n",
        "plt.plot([y_test.min(), y_test.max()], [y_test.min(), y_test.max()], color='red', lw=2)\n",
        "plt.title('Actual vs Predicho - MPI Rural')\n",
        "plt.xlabel('MPI Real')\n",
        "plt.ylabel('MPI Predicho')\n",
        "plt.show()"
      ]
    },
    {
      "cell_type": "code",
      "execution_count": null,
      "metadata": {
        "colab": {
          "base_uri": "https://localhost:8080/",
          "height": 599
        },
        "id": "sHSoMxMf3D_T",
        "outputId": "5af7e69a-d51f-4c75-e93b-0d2fba797c08"
      },
      "outputs": [
        {
          "ename": "",
          "evalue": "",
          "output_type": "error",
          "traceback": [
            "\u001b[1;31mRunning cells with 'Python 3.8.9' requires the ipykernel package.\n",
            "\u001b[1;31mRun the following command to install 'ipykernel' into the Python environment. \n",
            "\u001b[1;31mCommand: '/usr/bin/python3 -m pip install ipykernel -U --user --force-reinstall'"
          ]
        }
      ],
      "source": [
        "from sklearn.model_selection import train_test_split\n",
        "from sklearn.ensemble import RandomForestRegressor\n",
        "from sklearn.metrics import mean_squared_error, r2_score\n",
        "\n",
        "# Definir variables independientes y dependientes\n",
        "X_reg = mpi_data[['MPI Urban', 'Headcount Ratio Urban', 'Intensity of Deprivation Urban',\n",
        "                  'Headcount Ratio Rural', 'Intensity of Deprivation Rural']]\n",
        "y_reg = mpi_data['MPI Rural']\n",
        "\n",
        "# Dividir en conjuntos de entrenamiento y prueba\n",
        "X_train_reg, X_test_reg, y_train_reg, y_test_reg = train_test_split(X_reg, y_reg, test_size=0.3, random_state=42)\n",
        "\n",
        "# Entrenar un modelo de regresión\n",
        "reg_model = RandomForestRegressor(random_state=42)\n",
        "reg_model.fit(X_train_reg, y_train_reg)\n",
        "\n",
        "# Predicción y evaluación del modelo\n",
        "y_pred_reg = reg_model.predict(X_test_reg)\n",
        "mse_reg = mean_squared_error(y_test_reg, y_pred_reg)\n",
        "r2_reg = r2_score(y_test_reg, y_pred_reg)\n",
        "\n",
        "print(f\"Mean Squared Error (MSE): {mse_reg}\")\n",
        "print(f\"R-squared (R2): {r2_reg}\")\n",
        "\n",
        "# Visualización de los resultados\n",
        "plt.figure(figsize=(10, 6))\n",
        "plt.scatter(y_test_reg, y_pred_reg, color='blue')\n",
        "plt.plot([y_test_reg.min(), y_test_reg.max()], [y_test_reg.min(), y_test_reg.max()], color='red', lw=2)\n",
        "plt.title('Actual vs Predicho')\n",
        "plt.xlabel('MPI Real')\n",
        "plt.ylabel('MPI Predicho')\n",
        "plt.show()"
      ]
    },
    {
      "cell_type": "markdown",
      "metadata": {
        "id": "cW-jD_cr5Z8z"
      },
      "source": [
        "## Regresión (Red Neuronal)"
      ]
    },
    {
      "cell_type": "code",
      "execution_count": null,
      "metadata": {
        "colab": {
          "base_uri": "https://localhost:8080/",
          "height": 599
        },
        "id": "NCuMKawG2mLF",
        "outputId": "09aeb2a9-cc46-4280-df44-47d0406a6da1"
      },
      "outputs": [
        {
          "ename": "",
          "evalue": "",
          "output_type": "error",
          "traceback": [
            "\u001b[1;31mRunning cells with 'Python 3.8.9' requires the ipykernel package.\n",
            "\u001b[1;31mRun the following command to install 'ipykernel' into the Python environment. \n",
            "\u001b[1;31mCommand: '/usr/bin/python3 -m pip install ipykernel -U --user --force-reinstall'"
          ]
        }
      ],
      "source": [
        "from sklearn.model_selection import train_test_split\n",
        "from sklearn.preprocessing import StandardScaler\n",
        "from sklearn.neural_network import MLPRegressor\n",
        "from sklearn.metrics import mean_squared_error, r2_score\n",
        "\n",
        "# Variables predictoras y objetivo\n",
        "X = mpi_data[['Headcount Ratio Urban', 'Intensity of Deprivation Urban', 'MPI Rural']]\n",
        "y = mpi_data['MPI Urban']\n",
        "\n",
        "# División de los datos\n",
        "X_train, X_test, y_train, y_test = train_test_split(X, y, test_size=0.3, random_state=42)\n",
        "\n",
        "# Escalado de las características\n",
        "scaler = StandardScaler()\n",
        "X_train_scaled = scaler.fit_transform(X_train)\n",
        "X_test_scaled = scaler.transform(X_test)\n",
        "\n",
        "# Creación del modelo de red neuronal para regresión\n",
        "regressor = MLPRegressor(hidden_layer_sizes=(40,), max_iter=1000, random_state=42)\n",
        "regressor.fit(X_train_scaled, y_train)\n",
        "\n",
        "# Predicción\n",
        "y_pred = regressor.predict(X_test_scaled)\n",
        "\n",
        "# Evaluación\n",
        "mse = mean_squared_error(y_test, y_pred)\n",
        "r2 = r2_score(y_test, y_pred)\n",
        "\n",
        "print(f\"MSE: {mse}\")\n",
        "print(f\"R2 Score: {r2}\")\n",
        "\n",
        "# Visualización de los resultados\n",
        "plt.figure(figsize=(10, 6))\n",
        "plt.scatter(y_test, y_pred, color='blue')\n",
        "plt.plot([y_test.min(), y_test.max()], [y_test.min(), y_test.max()], color='red', lw=2)\n",
        "plt.title('Actual vs Predicho')\n",
        "plt.xlabel('MPI Real')\n",
        "plt.ylabel('MPI Predicho')\n",
        "plt.show()"
      ]
    },
    {
      "cell_type": "markdown",
      "metadata": {
        "id": "NeJbZYctxEpb"
      },
      "source": [
        "# Modelado Clasificación"
      ]
    },
    {
      "cell_type": "code",
      "execution_count": null,
      "metadata": {
        "colab": {
          "base_uri": "https://localhost:8080/"
        },
        "id": "1l30jPcz3vm5",
        "outputId": "52a8fbe8-707b-43f9-81e8-213c6521c103"
      },
      "outputs": [
        {
          "ename": "",
          "evalue": "",
          "output_type": "error",
          "traceback": [
            "\u001b[1;31mRunning cells with 'Python 3.8.9' requires the ipykernel package.\n",
            "\u001b[1;31mRun the following command to install 'ipykernel' into the Python environment. \n",
            "\u001b[1;31mCommand: '/usr/bin/python3 -m pip install ipykernel -U --user --force-reinstall'"
          ]
        }
      ],
      "source": [
        "from sklearn.linear_model import LogisticRegression\n",
        "from sklearn.tree import DecisionTreeClassifier\n",
        "from sklearn.ensemble import RandomForestClassifier\n",
        "from sklearn.metrics import accuracy_score\n",
        "\n",
        "# Definir variables independientes y dependientes\n",
        "X_class = mpi_data[['MPI Urban', 'Headcount Ratio Urban', 'Intensity of Deprivation Urban',\n",
        "                    'MPI Rural', 'Headcount Ratio Rural', 'Intensity of Deprivation Rural']].dropna()\n",
        "y_class = mpi_data['Poverty Disparity'].map({'Urban Favorable': 0, 'Rural Favorable': 1, 'Equal MPI': 2}).dropna()\n",
        "\n",
        "# Asegurarse de que las dimensiones coincidan después de eliminar NaN\n",
        "X_class = X_class.loc[y_class.index]\n",
        "\n",
        "# Dividir en conjuntos de entrenamiento y prueba\n",
        "from sklearn.model_selection import train_test_split\n",
        "X_train_class, X_test_class, y_train_class, y_test_class = train_test_split(X_class, y_class, test_size=0.2, random_state=42)\n",
        "\n",
        "# Modelos\n",
        "# Regresión logística\n",
        "lr_model = LogisticRegression(max_iter=400, tol=1e-6)\n",
        "lr_model.fit(X_train_class, y_train_class)\n",
        "y_pred_lr = lr_model.predict(X_test_class)\n",
        "lr_accuracy = accuracy_score(y_test_class, y_pred_lr)\n",
        "\n",
        "# Árbol de decisión\n",
        "tree_model = DecisionTreeClassifier(random_state=42)\n",
        "tree_model.fit(X_train_class, y_train_class)\n",
        "y_pred_tree = tree_model.predict(X_test_class)\n",
        "tree_accuracy = accuracy_score(y_test_class, y_pred_tree)\n",
        "\n",
        "# Bosque aleatorio\n",
        "rf_model = RandomForestClassifier(random_state=42)\n",
        "rf_model.fit(X_train_class, y_train_class)\n",
        "y_pred_rf = rf_model.predict(X_test_class)\n",
        "rf_accuracy = accuracy_score(y_test_class, y_pred_rf)\n",
        "\n",
        "print(f\"Regresión Logística Accuracy: {lr_accuracy}\")\n",
        "print(f\"Árbol de Decisión Accuracy: {tree_accuracy}\")\n",
        "print(f\"Bosque Aleatorio Accuracy: {rf_accuracy}\")"
      ]
    },
    {
      "cell_type": "markdown",
      "metadata": {
        "id": "neEQm0rq5UOt"
      },
      "source": [
        "## Clasificación (Red Neuronal)"
      ]
    },
    {
      "cell_type": "code",
      "execution_count": null,
      "metadata": {
        "colab": {
          "base_uri": "https://localhost:8080/"
        },
        "id": "HVIxRbV9xCwW",
        "outputId": "30ba0e8e-3dc8-4c63-ee74-1b81c8e1110c"
      },
      "outputs": [
        {
          "ename": "",
          "evalue": "",
          "output_type": "error",
          "traceback": [
            "\u001b[1;31mRunning cells with 'Python 3.8.9' requires the ipykernel package.\n",
            "\u001b[1;31mRun the following command to install 'ipykernel' into the Python environment. \n",
            "\u001b[1;31mCommand: '/usr/bin/python3 -m pip install ipykernel -U --user --force-reinstall'"
          ]
        }
      ],
      "source": [
        "from sklearn.model_selection import train_test_split\n",
        "from sklearn.preprocessing import StandardScaler\n",
        "from sklearn.neural_network import MLPClassifier\n",
        "from sklearn.metrics import accuracy_score\n",
        "\n",
        "# Transformar la variable objetivo en categórica para clasificación\n",
        "mpi_data['is_poor'] = (mpi_data['MPI Urban'] > mpi_data['MPI Urban'].median()).astype(int)\n",
        "\n",
        "# Definir variables predictoras y objetivo\n",
        "X = mpi_data[['Headcount Ratio Urban', 'Intensity of Deprivation Urban', 'MPI Rural']]\n",
        "y = mpi_data['is_poor']\n",
        "\n",
        "# División de los datos\n",
        "X_train, X_test, y_train, y_test = train_test_split(X, y, test_size=0.3, random_state=42)\n",
        "\n",
        "# Escalado de las características\n",
        "scaler = StandardScaler()\n",
        "X_train_scaled = scaler.fit_transform(X_train)\n",
        "X_test_scaled = scaler.transform(X_test)\n",
        "\n",
        "# Creación del modelo de red neuronal para clasificación\n",
        "classifier = MLPClassifier(hidden_layer_sizes=(40,), max_iter=1000, random_state=42)\n",
        "classifier.fit(X_train_scaled, y_train)\n",
        "\n",
        "# Predicción y evaluación\n",
        "y_pred = classifier.predict(X_test_scaled)\n",
        "accuracy = accuracy_score(y_test, y_pred)\n",
        "print(f\"Accuracy: {accuracy}\")"
      ]
    },
    {
      "cell_type": "markdown",
      "metadata": {
        "id": "q37BiExZxHcg"
      },
      "source": [
        "# Clustering con K-Means"
      ]
    },
    {
      "cell_type": "code",
      "execution_count": null,
      "metadata": {
        "colab": {
          "base_uri": "https://localhost:8080/",
          "height": 527
        },
        "id": "GLgMmr61xJMj",
        "outputId": "9de877dd-6a98-41ed-f764-fa63a96d934e"
      },
      "outputs": [
        {
          "ename": "",
          "evalue": "",
          "output_type": "error",
          "traceback": [
            "\u001b[1;31mRunning cells with 'Python 3.8.9' requires the ipykernel package.\n",
            "\u001b[1;31mRun the following command to install 'ipykernel' into the Python environment. \n",
            "\u001b[1;31mCommand: '/usr/bin/python3 -m pip install ipykernel -U --user --force-reinstall'"
          ]
        }
      ],
      "source": [
        "from sklearn.cluster import KMeans\n",
        "\n",
        "# Aplicar KMeans clustering\n",
        "X_cluster = mpi_data[['MPI Urban', 'Headcount Ratio Urban', 'Intensity of Deprivation Urban',\n",
        "                      'MPI Rural', 'Headcount Ratio Rural', 'Intensity of Deprivation Rural']]\n",
        "kmeans = KMeans(n_clusters=3, random_state=42)\n",
        "mpi_data['Cluster'] = kmeans.fit_predict(X_cluster)\n",
        "\n",
        "# Visualización de Clustering\n",
        "sns.scatterplot(x=mpi_data['MPI Urban'], y=mpi_data['MPI Rural'], hue=mpi_data['Cluster'], palette='viridis')\n",
        "plt.title('Clustering de MPI Urbano vs MPI Rural')\n",
        "plt.xlabel('MPI Urbano')\n",
        "plt.ylabel('MPI Rural')\n",
        "plt.show()"
      ]
    },
    {
      "cell_type": "markdown",
      "metadata": {
        "id": "qM6GDrAsxLS7"
      },
      "source": [
        "# PCA (Reducción de Dimensionalidad)"
      ]
    },
    {
      "cell_type": "code",
      "execution_count": null,
      "metadata": {
        "colab": {
          "base_uri": "https://localhost:8080/"
        },
        "id": "r1LN-m8PxOq9",
        "outputId": "411c1f21-bf9e-427c-b9d1-7f7101197e92"
      },
      "outputs": [
        {
          "ename": "",
          "evalue": "",
          "output_type": "error",
          "traceback": [
            "\u001b[1;31mRunning cells with 'Python 3.8.9' requires the ipykernel package.\n",
            "\u001b[1;31mRun the following command to install 'ipykernel' into the Python environment. \n",
            "\u001b[1;31mCommand: '/usr/bin/python3 -m pip install ipykernel -U --user --force-reinstall'"
          ]
        }
      ],
      "source": [
        "from sklearn.preprocessing import StandardScaler\n",
        "from sklearn.decomposition import PCA\n",
        "from sklearn.svm import SVC\n",
        "from sklearn.metrics import accuracy_score\n",
        "import numpy as np\n",
        "\n",
        "# Preprocesamiento: Selección de características y objetivo\n",
        "X_pca = mpi_data[['MPI Urban', 'Headcount Ratio Urban', 'Intensity of Deprivation Urban',\n",
        "                  'MPI Rural', 'Headcount Ratio Rural', 'Intensity of Deprivation Rural']]\n",
        "y_pca = mpi_data['Poverty Disparity'].map({'Urban Favorable': 0, 'Rural Favorable': 1, 'Equal MPI': 2}).dropna()\n",
        "\n",
        "# Asegurarse de que las dimensiones coincidan después de eliminar NaN\n",
        "X_pca = X_pca.loc[y_pca.index]\n",
        "\n",
        "# Estandarización\n",
        "scaler = StandardScaler()\n",
        "X_scaled = scaler.fit_transform(X_pca)\n",
        "\n",
        "# Aplicar PCA\n",
        "pca = PCA(n_components=2)\n",
        "X_pca_reduced = pca.fit_transform(X_scaled)\n",
        "\n",
        "# Comparación de rendimientos antes y después de PCA con SVM\n",
        "from sklearn.model_selection import train_test_split\n",
        "\n",
        "X_train, X_test, y_train, y_test = train_test_split(X_scaled, y_pca, test_size=0.3, random_state=42)\n",
        "X_train_pca, X_test_pca, y_train_pca, y_test_pca = train_test_split(X_pca_reduced, y_pca, test_size=0.3, random_state=42)\n",
        "\n",
        "# SVM con datos originales\n",
        "svm_original = SVC(kernel='rbf', random_state=42)\n",
        "svm_original.fit(X_train, y_train)\n",
        "y_pred_original = svm_original.predict(X_test)\n",
        "accuracy_original = accuracy_score(y_test, y_pred_original)\n",
        "\n",
        "# SVM con datos reducidos por PCA\n",
        "svm_pca = SVC(kernel='rbf', random_state=42)\n",
        "svm_pca.fit(X_train_pca, y_train_pca)\n",
        "y_pred_pca = svm_pca.predict(X_test_pca)\n",
        "accuracy_pca = accuracy_score(y_test_pca, y_pred_pca)\n",
        "\n",
        "print(f\"Accuracy antes de PCA: {accuracy_original}\")\n",
        "print(f\"Accuracy después de PCA: {accuracy_pca}\")"
      ]
    }
  ],
  "metadata": {
    "colab": {
      "provenance": []
    },
    "kernelspec": {
      "display_name": "Python 3",
      "name": "python3"
    },
    "language_info": {
      "name": "python",
      "version": "3.12.4"
    }
  },
  "nbformat": 4,
  "nbformat_minor": 0
}
